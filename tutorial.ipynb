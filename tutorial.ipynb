{
 "cells": [
  {
   "cell_type": "markdown",
   "metadata": {},
   "source": [
    "### Start by downloading a bathymetry data file from the Global Multi-Resolution Topography repository, which essentially synthesizes all the topography information for the globe into one database.\n",
    "\n",
    "### You can query this database by downloading a grid of topography with given latitude and longitude boundaries.\n",
    "\n",
    "### Bathymetry = Seafloor Topography!!!"
   ]
  },
  {
   "cell_type": "code",
   "execution_count": 6,
   "metadata": {},
   "outputs": [],
   "source": [
    "# Urllib is a built in library in python\n",
    "import urllib.request "
   ]
  },
  {
   "cell_type": "markdown",
   "metadata": {},
   "source": [
    "#### Specify which coordinates you want your grid to be for!"
   ]
  },
  {
   "cell_type": "code",
   "execution_count": 7,
   "metadata": {},
   "outputs": [],
   "source": [
    "min_lat = -3\n",
    "max_lat = 3\n",
    "min_lon = -90 \n",
    "max_lon = -87"
   ]
  },
  {
   "cell_type": "code",
   "execution_count": 8,
   "metadata": {},
   "outputs": [
    {
     "name": "stdout",
     "output_type": "stream",
     "text": [
      "https://www.gmrt.org/services/GridServer?north=3&west=-90&east=-87&south=-3&layer=topo&format=netcdf&resolution=high\n"
     ]
    }
   ],
   "source": [
    "# Build the URL\n",
    "url = 'https://www.gmrt.org/services/GridServer?north=' + str(max_lat) + '&west=' + str(min_lon) + '&east=' + str(max_lon) + '&south=' + str(min_lat) + '&layer=topo&format=netcdf&resolution=high' \n",
    "print(url)"
   ]
  },
  {
   "cell_type": "code",
   "execution_count": 9,
   "metadata": {},
   "outputs": [
    {
     "data": {
      "text/plain": [
       "('bathy.nc', <http.client.HTTPMessage at 0x7fb48e0ce7a0>)"
      ]
     },
     "execution_count": 9,
     "metadata": {},
     "output_type": "execute_result"
    }
   ],
   "source": [
    "urllib.request.urlretrieve(url,'bathy.nc')"
   ]
  },
  {
   "cell_type": "markdown",
   "metadata": {},
   "source": [
    "#### Great, now we have our datafile. Let's try to plot it up."
   ]
  }
 ],
 "metadata": {
  "kernelspec": {
   "display_name": "mseismo",
   "language": "python",
   "name": "mseismo"
  },
  "language_info": {
   "codemirror_mode": {
    "name": "ipython",
    "version": 3
   },
   "file_extension": ".py",
   "mimetype": "text/x-python",
   "name": "python",
   "nbconvert_exporter": "python",
   "pygments_lexer": "ipython3",
   "version": "3.10.4"
  }
 },
 "nbformat": 4,
 "nbformat_minor": 4
}
